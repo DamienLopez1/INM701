{
 "cells": [
  {
   "cell_type": "code",
   "execution_count": 1,
   "metadata": {
    "scrolled": true
   },
   "outputs": [
    {
     "name": "stderr",
     "output_type": "stream",
     "text": [
      "Using TensorFlow backend.\n"
     ]
    }
   ],
   "source": [
    "import os\n",
    "import pandas as pd\n",
    "import numpy as np\n",
    "from sklearn.model_selection import train_test_split\n",
    "from sklearn.linear_model import Perceptron\n",
    "from sklearn.tree import DecisionTreeClassifier\n",
    "from sklearn.metrics import confusion_matrix\n",
    "import matplotlib.pyplot as plt\n",
    "from sklearn.metrics import accuracy_score\n",
    "from sklearn.utils import shuffle\n",
    "\n",
    "from imblearn.over_sampling import SMOTE\n",
    "\n",
    "from sklearn import preprocessing\n",
    "\n",
    "\n"
   ]
  },
  {
   "cell_type": "code",
   "execution_count": 2,
   "metadata": {},
   "outputs": [
    {
     "name": "stdout",
     "output_type": "stream",
     "text": [
      "All patients     time         x         y         z  heartbeat  label\n",
      "0    0.0  0.184021  0.679169 -0.476990       87.0     -1\n",
      "1   30.0 -0.301010  0.805710  0.487167       95.0     -1\n",
      "2   60.0 -0.323517  0.923447  0.146362       84.0     -1\n",
      "3   90.0 -0.509674  0.855102 -0.049118       85.0     -1\n",
      "4  120.0 -0.387756  0.919067  0.023758       82.0     -1\n",
      "All patients shuffled\n",
      "           time         x         y         z  heartbeat  label\n",
      "15630   8400.0 -0.217285  0.252640 -0.935516       59.0      3\n",
      "19031  19740.0 -0.562546  0.045792 -0.828430       60.0      2\n",
      "20927  19260.0  0.204865 -0.244324  0.953003       58.0      2\n",
      "9840    3330.0 -0.289093 -0.171799 -0.940628       53.0      3\n",
      "3890    6060.0  0.786438 -0.040527 -0.616989       68.0      3\n",
      "Patients data size (25781, 6)\n",
      "\n",
      "Patients data normalized heartbeat\n",
      "           time         x         y         z  heartbeat  label\n",
      "15630   8400.0 -0.217285  0.252640 -0.935516   0.202247      3\n",
      "19031  19740.0 -0.562546  0.045792 -0.828430   0.213483      2\n",
      "20927  19260.0  0.204865 -0.244324  0.953003   0.191011      2\n",
      "9840    3330.0 -0.289093 -0.171799 -0.940628   0.134831      3\n",
      "3890    6060.0  0.786438 -0.040527 -0.616989   0.303371      3\n",
      "X data \n",
      " [[-0.2172852   0.2526398  -0.9355164   0.20224719]\n",
      " [-0.5625458   0.0457916  -0.8284302   0.21348315]\n",
      " [ 0.2048645  -0.2443237   0.9530029   0.19101124]\n",
      " [-0.289093   -0.1717987  -0.9406281   0.13483146]\n",
      " [ 0.786438   -0.0405273  -0.6169891   0.30337079]]\n"
     ]
    }
   ],
   "source": [
    "\n",
    "path = \".\"\n",
    "filename_read = os.path.join(path, \"All_data_patients_correct.csv\")\n",
    "patient_all = pd.read_csv(filename_read)\n",
    "PAL = patient_all\n",
    "print(\"All patients\", PAL.head())\n",
    "PAL = shuffle(PAL)\n",
    "print(\"All patients shuffled\\n\",PAL.head())\n",
    "print(\"Patients data size\", PAL.shape)\n",
    "\n",
    "min_max_scaler = preprocessing.MinMaxScaler()\n",
    "PAL[['heartbeat']] = min_max_scaler.fit_transform(PAL[['heartbeat']].values)\n",
    "\n",
    "print(\"\\nPatients data normalized heartbeat\\n\", PAL.head())\n",
    "\n",
    "result = []\n",
    "for x in PAL.columns:\n",
    "    if x != 'label':\n",
    "        result.append(x)\n",
    "\n",
    "X = PAL[result].values\n",
    "X = np.delete(X,0,1)\n",
    "y = PAL['label'].values\n",
    "print(\"X data \\n\", X[0:5])"
   ]
  },
  {
   "cell_type": "code",
   "execution_count": 4,
   "metadata": {},
   "outputs": [],
   "source": [
    "\n",
    "def plot_confusion_matrix(cm, names, title='Confusion matrix', cmap=plt.cm.Blues):\n",
    "    plt.imshow(cm, interpolation='nearest', cmap=cmap)\n",
    "    plt.title(title)\n",
    "    plt.colorbar(fraction=0.05)\n",
    "    tick_marks = np.arange(len(names))\n",
    "    plt.xticks(tick_marks, names, rotation=45)\n",
    "    plt.yticks(tick_marks, names)\n",
    "    plt.tight_layout()\n",
    "    plt.ylabel('True label')\n",
    "    plt.xlabel('Predicted label')"
   ]
  },
  {
   "cell_type": "code",
   "execution_count": null,
   "metadata": {
    "scrolled": true
   },
   "outputs": [
    {
     "name": "stdout",
     "output_type": "stream",
     "text": [
      "[[ 1.45e+04 -5.04e-01  1.56e-02 -8.50e-01  2.47e-01]\n",
      " [ 7.89e+03 -4.63e-01  1.11e-02 -8.77e-01  2.92e-01]\n",
      " [ 1.02e+04 -4.05e-01 -3.79e-01 -8.39e-01  3.60e-01]\n",
      " ...\n",
      " [ 5.70e+03 -3.16e-01 -8.81e-01  3.50e-01  1.24e-01]\n",
      " [ 7.83e+03 -1.57e-01  8.74e-01 -4.51e-01  2.36e-01]\n",
      " [ 9.42e+03 -4.09e-01 -1.36e-01 -8.95e-01  3.15e-01]]\n"
     ]
    }
   ],
   "source": [
    "from sklearn.svm import SVC\n",
    "from sklearn.utils import shuffle\n",
    "\n",
    "\n",
    "\n",
    "result = []\n",
    "first_patient = PAL\n",
    "first_patient = shuffle(first_patient)\n",
    "#first_patient = first_patient.reindex(np.random.permutation(first_patient.index))\n",
    "\n",
    "#print(first_patient.head())\n",
    "\n",
    "for x in first_patient:\n",
    "    if x != 'label':\n",
    "        result.append(x)\n",
    "        \n",
    "    \n",
    "X = first_patient[result].values\n",
    "print(X)\n",
    "\n",
    "y = first_patient['label'].values\n",
    "\n",
    "labels = first_patient.label\n",
    "\n",
    "X_train, X_test, y_train, y_test = train_test_split(X,y, test_size = 0.2, random_state = 42)\n",
    "\n",
    "\n",
    "\n",
    "smt = SMOTE()\n",
    "X_train, y_train = smt.fit_sample(X_train, y_train)\n",
    "\n",
    "model = SVC(gamma = 'scale', decision_function_shape = 'ovo', kernel = 'poly', C = 1000)\n",
    "model.fit(X_train,y_train)\n",
    "    \n",
    "y_pred = model.predict(X_test)\n",
    "\n",
    "df_compare = pd.DataFrame({'Actual': y_test, 'Predicted': y_pred})\n",
    "print(df_compare)\n",
    "\n",
    "print('Accuracy: %.2f' % accuracy_score(y_test, y_pred))\n",
    "cm = confusion_matrix(y_test, y_pred)\n",
    "np.set_printoptions(precision=2)\n",
    "\n",
    "print('Confusion matrix, without normalization')\n",
    "print(cm)\n",
    "#normalised confusion matrix\n",
    "cm_normalized = cm.astype('float') / cm.sum(axis=1)[:, np.newaxis]\n",
    "print('Normalized confusion matrix')\n",
    "print(cm_normalized)\n",
    "plt.figure()\n",
    "plot_confusion_matrix(cm_normalized,labels, title='Normalized confusion matrix')\n",
    "plt.show()"
   ]
  },
  {
   "cell_type": "code",
   "execution_count": 6,
   "metadata": {},
   "outputs": [
    {
     "name": "stdout",
     "output_type": "stream",
     "text": [
      "The accuracy is:  20.96179949583091 %\n",
      "   Actual  Predicted\n",
      "0       0          5\n",
      "1       1          5\n",
      "2       5          5\n",
      "3       5          5\n",
      "4       2          4\n",
      "Accuracy: 0.21\n",
      "Confusion matrix, without normalization\n",
      "[[  71    5    0    0    1    1    3]\n",
      " [ 101   60   15    0   20   86  147]\n",
      " [  16   25   10    0   21   85  163]\n",
      " [  35  121  117    0  190  856 1218]\n",
      " [   0   21    9    0  229  284   94]\n",
      " [   0    0    3    0   11   40    9]\n",
      " [  25    3   76    0    7  308  671]]\n",
      "Normalized confusion matrix\n",
      "[[0.88 0.06 0.   0.   0.01 0.01 0.04]\n",
      " [0.24 0.14 0.03 0.   0.05 0.2  0.34]\n",
      " [0.05 0.08 0.03 0.   0.07 0.27 0.51]\n",
      " [0.01 0.05 0.05 0.   0.07 0.34 0.48]\n",
      " [0.   0.03 0.01 0.   0.36 0.45 0.15]\n",
      " [0.   0.   0.05 0.   0.17 0.63 0.14]\n",
      " [0.02 0.   0.07 0.   0.01 0.28 0.62]]\n"
     ]
    },
    {
     "data": {
      "image/png": "[encoded data removed]",
      "text/plain": [
       "<Figure size 432x288 with 2 Axes>"
      ]
     },
     "metadata": {
      "needs_background": "light"
     },
     "output_type": "display_data"
    }
   ],
   "source": [
    " from sklearn.metrics import accuracy_score\n",
    "\n",
    "\n",
    "accuracy = accuracy_score(y_pred, y_test)\n",
    "\n",
    "#accuracy = cross_validate(Random_Forest_model,X,Y,cv=5)['test_score']\n",
    "print('The accuracy is: ',accuracy*100,'%')\n",
    "df_compare = pd.DataFrame({'Actual': y_test, 'Predicted': y_pred}).head()\n",
    "print(df_compare)\n",
    "\n",
    "print('Accuracy: %.2f' % accuracy_score(y_test, y_pred))\n",
    "cm = confusion_matrix(y_test, y_pred)\n",
    "np.set_printoptions(precision=2)\n",
    "\n",
    "print('Confusion matrix, without normalization')\n",
    "print(cm)\n",
    "#normalised confusion matrix\n",
    "cm_normalized = cm.astype('float') / cm.sum(axis=1)[:, np.newaxis]\n",
    "print('Normalized confusion matrix')\n",
    "print(cm_normalized)\n",
    "plt.figure()\n",
    "plot_confusion_matrix(cm_normalized,labels, title='Normalized confusion matrix')\n",
    "plt.show()"
   ]
  },
  {
   "cell_type": "code",
   "execution_count": null,
   "metadata": {},
   "outputs": [],
   "source": []
  }
 ],
 "metadata": {
  "kernelspec": {
   "display_name": "Python 3",
   "language": "python",
   "name": "python3"
  },
  "language_info": {
   "codemirror_mode": {
    "name": "ipython",
    "version": 3
   },
   "file_extension": ".py",
   "mimetype": "text/x-python",
   "name": "python",
   "nbconvert_exporter": "python",
   "pygments_lexer": "ipython3",
   "version": "3.7.3"
  }
 },
 "nbformat": 4,
 "nbformat_minor": 2
}
