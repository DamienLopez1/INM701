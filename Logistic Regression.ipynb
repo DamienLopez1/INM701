{
 "cells": [
  {
   "cell_type": "code",
   "execution_count": 1,
   "metadata": {},
   "outputs": [
    {
     "name": "stderr",
     "output_type": "stream",
     "text": [
      "Using TensorFlow backend.\n"
     ]
    }
   ],
   "source": [
    "import seaborn as sns\n",
    "\n",
    "# Used for Confusion Matrix\n",
    "from sklearn import metrics\n",
    "\n",
    "import os\n",
    "import pandas as pd\n",
    "import numpy as np\n",
    "from sklearn.model_selection import train_test_split\n",
    "from sklearn.linear_model import Perceptron\n",
    "from sklearn.tree import DecisionTreeClassifier\n",
    "from sklearn.metrics import confusion_matrix\n",
    "import matplotlib.pyplot as plt\n",
    "from sklearn.metrics import accuracy_score\n",
    "from sklearn.utils import shuffle\n",
    "from sklearn import preprocessing\n",
    "\n",
    "from imblearn.over_sampling import SMOTE"
   ]
  },
  {
   "cell_type": "code",
   "execution_count": 7,
   "metadata": {},
   "outputs": [
    {
     "name": "stdout",
     "output_type": "stream",
     "text": [
      "All patients\n",
      "     time         x         y         z  heartbeat  label\n",
      "0    0.0  0.184021  0.679169 -0.476990       87.0     -1\n",
      "1   30.0 -0.301010  0.805710  0.487167       95.0     -1\n",
      "2   60.0 -0.323517  0.923447  0.146362       84.0     -1\n",
      "3   90.0 -0.509674  0.855102 -0.049118       85.0     -1\n",
      "4  120.0 -0.387756  0.919067  0.023758       82.0     -1\n",
      "All patients shuffled\n",
      "           time         x         y         z  heartbeat  label\n",
      "5868    9660.0  0.322189 -0.001083 -0.947906       52.0      2\n",
      "14291  20280.0 -0.444885  0.300842 -0.832092       73.0      5\n",
      "7785    8010.0 -0.172714  0.108078 -0.972321       49.0      3\n",
      "24678  16380.0 -0.490692  0.021942 -0.856262       59.0      0\n",
      "19845  14640.0 -0.264831 -0.360031 -0.891602       59.0      5\n",
      "Patients data size (25781, 6)\n",
      "\n",
      "Patients data normalized heartbeat\n",
      "           time         x         y         z  heartbeat  label\n",
      "5868    9660.0  0.322189 -0.001083 -0.947906   0.123596      2\n",
      "14291  20280.0 -0.444885  0.300842 -0.832092   0.359551      5\n",
      "7785    8010.0 -0.172714  0.108078 -0.972321   0.089888      3\n",
      "24678  16380.0 -0.490692  0.021942 -0.856262   0.202247      0\n",
      "19845  14640.0 -0.264831 -0.360031 -0.891602   0.202247      5\n",
      "X data \n",
      " [[ 9.66e+03  3.22e-01 -1.08e-03 -9.48e-01  1.24e-01]\n",
      " [ 2.03e+04 -4.45e-01  3.01e-01 -8.32e-01  3.60e-01]\n",
      " [ 8.01e+03 -1.73e-01  1.08e-01 -9.72e-01  8.99e-02]\n",
      " [ 1.64e+04 -4.91e-01  2.19e-02 -8.56e-01  2.02e-01]\n",
      " [ 1.46e+04 -2.65e-01 -3.60e-01 -8.92e-01  2.02e-01]]\n"
     ]
    }
   ],
   "source": [
    "path = \".\"\n",
    "#path = \"/Users/willemvandemierop/Documents/Master AI/Introduction to AI/Coursework\"\n",
    "filename_read = os.path.join(path, \"All_data_patients_correct.csv\")\n",
    "patient_all = pd.read_csv(filename_read)\n",
    "PAL = patient_all\n",
    "print(\"All patients\\n\", PAL.head())\n",
    "PAL = shuffle(PAL)\n",
    "print(\"All patients shuffled\\n\",PAL.head())\n",
    "print(\"Patients data size\", PAL.shape)\n",
    "\n",
    "min_max_scaler = preprocessing.MinMaxScaler()\n",
    "PAL[['heartbeat']] = min_max_scaler.fit_transform(PAL[['heartbeat']].values)\n",
    "\n",
    "print(\"\\nPatients data normalized heartbeat\\n\", PAL.head())\n",
    "\n",
    "result = []\n",
    "for x in PAL.columns:\n",
    "    if x != 'label':\n",
    "        result.append(x)\n",
    "\n",
    "X = PAL[result].values\n",
    "#X = np.delete(X,0,1)\n",
    "y = PAL['label'].values\n",
    "print(\"X data \\n\", X[0:5])\n"
   ]
  },
  {
   "cell_type": "code",
   "execution_count": 8,
   "metadata": {},
   "outputs": [],
   "source": [
    "def plot_confusion_matrix(cm, names, title='Confusion matrix', cmap=plt.cm.Blues):\n",
    "    plt.imshow(cm, interpolation='nearest', cmap=cmap)\n",
    "    plt.title(title)\n",
    "    plt.colorbar(fraction=0.05)\n",
    "    tick_marks = np.arange(len(names))\n",
    "    plt.xticks(tick_marks, names, rotation=45)\n",
    "    plt.yticks(tick_marks, names)\n",
    "    plt.tight_layout()\n",
    "    plt.ylabel('True label')\n",
    "    plt.xlabel('Predicted label')"
   ]
  },
  {
   "cell_type": "code",
   "execution_count": 9,
   "metadata": {},
   "outputs": [
    {
     "name": "stdout",
     "output_type": "stream",
     "text": [
      "[[ 8.88e+03  2.75e-01  3.00e-01  9.21e-01  4.16e-01]\n",
      " [ 1.86e+03 -5.90e-02 -3.56e-01 -9.25e-01  4.04e-01]\n",
      " [ 2.58e+04 -2.90e-01 -1.10e-01  9.49e-01  2.58e-01]\n",
      " ...\n",
      " [ 2.40e+02 -2.45e-01  6.06e-01 -7.57e-01  1.91e-01]\n",
      " [ 1.43e+04 -3.48e-01 -8.45e-02 -9.24e-01  2.58e-01]\n",
      " [ 1.20e+04 -4.35e-01  4.52e-01 -7.68e-01  3.48e-01]]\n"
     ]
    }
   ],
   "source": [
    "from sklearn.svm import SVC\n",
    "from sklearn.utils import shuffle\n",
    "\n",
    "\n",
    "\n",
    "from sklearn.linear_model import LogisticRegression \n",
    "result = []\n",
    "\n",
    "first_patient = PAL\n",
    "first_patient = shuffle(first_patient)\n",
    "#first_patient = first_patient.reindex(np.random.permutation(first_patient.index))\n",
    "\n",
    "#print(first_patient.head())\n",
    "\n",
    "for x in first_patient:\n",
    "    if x != 'label':\n",
    "        result.append(x)\n",
    "        \n",
    "    \n",
    "X = first_patient[result].values\n",
    "print(X)\n",
    "\n",
    "y = first_patient['label'].values\n",
    "\n",
    "X_train, X_test, y_train, y_test = train_test_split(X,y, test_size = 0.2, random_state = 42)\n",
    "y_train[y_train == -1] = 6\n",
    "y_test[y_test == -1] = 6\n",
    "smt = SMOTE()\n",
    "X_train, y_train = smt.fit_sample(X_train, y_train)"
   ]
  },
  {
   "cell_type": "code",
   "execution_count": 10,
   "metadata": {},
   "outputs": [
    {
     "name": "stderr",
     "output_type": "stream",
     "text": [
      "C:\\Users\\damie\\Anaconda3\\lib\\site-packages\\sklearn\\linear_model\\logistic.py:432: FutureWarning: Default solver will be changed to 'lbfgs' in 0.22. Specify a solver to silence this warning.\n",
      "  FutureWarning)\n"
     ]
    },
    {
     "name": "stdout",
     "output_type": "stream",
     "text": [
      "[6 3 2 ... 5 6 5]\n",
      "test 0.2443280977312391\n",
      "train 0.3480574239534183\n"
     ]
    }
   ],
   "source": [
    "#logisticRegr = LogisticRegression(random_state=0, multi_class='ovr')#,max_iter = 1000,solver = 'sag')#,solver = 'sag',penalty = 'l2', C = 0.0001)\n",
    "logisticRegr = LogisticRegression(multi_class = 'ovr',tol = 1e-5,max_iter = 1000)\n",
    "logisticRegr.fit(X_train, y_train)\n",
    "\n",
    "\n",
    "\n",
    "y_pred = logisticRegr.predict(X_test)\n",
    "print(y_pred)\n",
    "score = logisticRegr.score(X_test, y_test)\n",
    "print('test',score)\n",
    "print('train',logisticRegr.score(X_train, y_train))\n",
    "\n"
   ]
  },
  {
   "cell_type": "code",
   "execution_count": 11,
   "metadata": {},
   "outputs": [
    {
     "name": "stdout",
     "output_type": "stream",
     "text": [
      "The accuracy is:  24.43280977312391 %\n",
      "   Actual  Predicted\n",
      "0       3          6\n",
      "1       2          3\n",
      "2       2          2\n",
      "3       2          2\n",
      "4       6          5\n",
      "Accuracy: 0.24\n",
      "Confusion matrix, without normalization\n",
      "[[  9  16  26  45  95 105 126]\n",
      " [  7  15  68  36  61 109  44]\n",
      " [ 38 159 443 265 417 822 333]\n",
      " [  0  42  45 123 153  54 207]\n",
      " [  0   0  10  21  36   0   3]\n",
      " [ 23  62 176 103 128 584  80]\n",
      " [  0   0   0   1   5  12  50]]\n",
      "Normalized confusion matrix\n",
      "[[0.02 0.04 0.06 0.11 0.23 0.25 0.3 ]\n",
      " [0.02 0.04 0.2  0.11 0.18 0.32 0.13]\n",
      " [0.02 0.06 0.18 0.11 0.17 0.33 0.13]\n",
      " [0.   0.07 0.07 0.2  0.25 0.09 0.33]\n",
      " [0.   0.   0.14 0.3  0.51 0.   0.04]\n",
      " [0.02 0.05 0.15 0.09 0.11 0.51 0.07]\n",
      " [0.   0.   0.   0.01 0.07 0.18 0.74]]\n"
     ]
    },
    {
     "data": {
      "image/png": "[encoded data removed]",
      "text/plain": [
       "<Figure size 432x288 with 2 Axes>"
      ]
     },
     "metadata": {
      "needs_background": "light"
     },
     "output_type": "display_data"
    }
   ],
   "source": [
    "labels = {0 : \"wake\", 1: \"N1\", 2: \"N2\", 3: \"N3\",4:\"Noise\", 5 : \"REM\",6:\"Noise\"}\n",
    "\n",
    "from sklearn.metrics import accuracy_score\n",
    "accuracy = accuracy_score(y_pred, y_test)\n",
    "\n",
    "#accuracy = cross_validate(Random_Forest_model,X,Y,cv=5)['test_score']\n",
    "print('The accuracy is: ',accuracy*100,'%')\n",
    "df_compare = pd.DataFrame({'Actual': y_test, 'Predicted': y_pred}).head()\n",
    "print(df_compare)\n",
    "\n",
    "print('Accuracy: %.2f' % accuracy_score(y_test, y_pred))\n",
    "cm = confusion_matrix(y_test, y_pred)\n",
    "np.set_printoptions(precision=2)\n",
    "\n",
    "print('Confusion matrix, without normalization')\n",
    "print(cm)\n",
    "#normalised confusion matrix\n",
    "cm_normalized = cm.astype('float') / cm.sum(axis=1)[:, np.newaxis]\n",
    "print('Normalized confusion matrix')\n",
    "print(cm_normalized)\n",
    "plt.figure()\n",
    "plot_confusion_matrix(cm_normalized,labels, title='Normalized confusion matrix')\n",
    "plt.show()"
   ]
  },
  {
   "cell_type": "code",
   "execution_count": null,
   "metadata": {},
   "outputs": [],
   "source": []
  }
 ],
 "metadata": {
  "kernelspec": {
   "display_name": "Python 3",
   "language": "python",
   "name": "python3"
  },
  "language_info": {
   "codemirror_mode": {
    "name": "ipython",
    "version": 3
   },
   "file_extension": ".py",
   "mimetype": "text/x-python",
   "name": "python",
   "nbconvert_exporter": "python",
   "pygments_lexer": "ipython3",
   "version": "3.7.3"
  }
 },
 "nbformat": 4,
 "nbformat_minor": 2
}
