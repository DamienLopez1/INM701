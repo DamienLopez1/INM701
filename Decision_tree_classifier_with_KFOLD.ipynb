{
  "nbformat": 4,
  "nbformat_minor": 0,
  "metadata": {
    "kernelspec": {
      "display_name": "Python 3",
      "language": "python",
      "name": "python3"
    },
    "language_info": {
      "codemirror_mode": {
        "name": "ipython",
        "version": 3
      },
      "file_extension": ".py",
      "mimetype": "text/x-python",
      "name": "python",
      "nbconvert_exporter": "python",
      "pygments_lexer": "ipython3",
      "version": "3.7.3"
    },
    "colab": {
      "name": "Decision tree classifier with KFOLD.ipynb",
      "provenance": []
    }
  },
  "cells": [
    {
      "cell_type": "code",
      "metadata": {
        "id": "wth9cm4Z9XLm",
        "colab_type": "code",
        "outputId": "2b396874-a7fa-4c07-eca1-78c9d4b269d5",
        "colab": {
          "base_uri": "https://localhost:8080/",
          "height": 71
        }
      },
      "source": [
        "from sklearn.neural_network import MLPClassifier\n",
        "import os\n",
        "import pandas as pd\n",
        "import numpy as np\n",
        "from sklearn.model_selection import train_test_split\n",
        "from sklearn.linear_model import Perceptron\n",
        "from sklearn.tree import DecisionTreeClassifier\n",
        "from sklearn.metrics import confusion_matrix\n",
        "import matplotlib.pyplot as plt\n",
        "from sklearn.metrics import accuracy_score\n",
        "from sklearn.utils import shuffle\n",
        "from sklearn.model_selection import KFold\n",
        "from sklearn import preprocessing\n",
        "from imblearn.over_sampling import SMOTE  \n",
        "from sklearn.metrics import classification_report\n",
        "\n",
        "from sklearn.model_selection import learning_curve"
      ],
      "execution_count": 0,
      "outputs": [
        {
          "output_type": "stream",
          "text": [
            "/usr/local/lib/python3.6/dist-packages/sklearn/externals/six.py:31: DeprecationWarning: The module is deprecated in version 0.21 and will be removed in version 0.23 since we've dropped support for Python 2.7. Please rely on the official version of six (https://pypi.org/project/six/).\n",
            "  \"(https://pypi.org/project/six/).\", DeprecationWarning)\n"
          ],
          "name": "stderr"
        }
      ]
    },
    {
      "cell_type": "code",
      "metadata": {
        "id": "5kWC_-V19kGS",
        "colab_type": "code",
        "outputId": "a363bd3d-0d5e-490f-9ed2-bed65aae0021",
        "colab": {
          "base_uri": "https://localhost:8080/",
          "height": 122
        }
      },
      "source": [
        "from google.colab import drive\n",
        "drive.mount('/content/drive')"
      ],
      "execution_count": 0,
      "outputs": [
        {
          "output_type": "stream",
          "text": [
            "Go to this URL in a browser: https://accounts.google.com/o/oauth2/auth?client_id=947318989803-6bn6qk8qdgf4n4g3pfee6491hc0brc4i.apps.googleusercontent.com&redirect_uri=urn%3aietf%3awg%3aoauth%3a2.0%3aoob&response_type=code&scope=email%20https%3a%2f%2fwww.googleapis.com%2fauth%2fdocs.test%20https%3a%2f%2fwww.googleapis.com%2fauth%2fdrive%20https%3a%2f%2fwww.googleapis.com%2fauth%2fdrive.photos.readonly%20https%3a%2f%2fwww.googleapis.com%2fauth%2fpeopleapi.readonly\n",
            "\n",
            "Enter your authorization code:\n",
            "··········\n",
            "Mounted at /content/drive\n"
          ],
          "name": "stdout"
        }
      ]
    },
    {
      "cell_type": "code",
      "metadata": {
        "id": "RdPx_p4k9XL7",
        "colab_type": "code",
        "outputId": "4b2285fd-a5b6-4f88-cef1-aacab3101cb0",
        "colab": {
          "base_uri": "https://localhost:8080/",
          "height": 680
        }
      },
      "source": [
        "\n",
        "path = \"/content/drive/My Drive/Sleep data\"\n",
        "filename_read = os.path.join(path, \"All_data_patients_correct.csv\")\n",
        "patient_all = pd.read_csv(filename_read)\n",
        "PAL = patient_all\n",
        "print(\"All patients\", PAL.head())\n",
        "PAL = shuffle(PAL)\n",
        "print(\"All patients shuffled\\n\",PAL.head())\n",
        "print(\"Patients data size\", PAL.shape)\n",
        "\n",
        "min_max_scaler = preprocessing.MinMaxScaler()\n",
        "PAL[['heartbeat']] = min_max_scaler.fit_transform(PAL[['heartbeat']].values)\n",
        "\n",
        "print(\"\\nPatients data normalized heartbeat\\n\", PAL.head())\n",
        "\n",
        "result = []\n",
        "for x in PAL.columns:\n",
        "    if x != 'label':\n",
        "        result.append(x)\n",
        "\n",
        "X = PAL[result].values\n",
        "X_with_time = X.copy()\n",
        "X = np.delete(X,0,1)\n",
        "y = PAL['label'].values\n",
        "print(\"X data \\n\", X[0:5])\n",
        "print(\"X data with time \\n\", X_with_time[0:5])\n"
      ],
      "execution_count": 0,
      "outputs": [
        {
          "output_type": "stream",
          "text": [
            "All patients     time         x         y         z  heartbeat  label\n",
            "0    0.0  0.184021  0.679169 -0.476990       87.0     -1\n",
            "1   30.0 -0.301010  0.805710  0.487167       95.0     -1\n",
            "2   60.0 -0.323517  0.923447  0.146362       84.0     -1\n",
            "3   90.0 -0.509674  0.855102 -0.049118       85.0     -1\n",
            "4  120.0 -0.387756  0.919067  0.023758       82.0     -1\n",
            "All patients shuffled\n",
            "          time         x         y         z  heartbeat  label\n",
            "4667    360.0  0.557373 -0.184052 -0.680679       65.0      0\n",
            "9942   6390.0 -0.065735 -0.640915 -0.761108       54.0      2\n",
            "6451  27240.0 -0.246597 -0.484222 -0.843368       49.0      2\n",
            "8482   4170.0  0.372131 -0.870544  0.298874       59.0      3\n",
            "1524  15210.0 -0.481674  0.414932 -0.767578       50.0      2\n",
            "Patients data size (25781, 6)\n",
            "\n",
            "Patients data normalized heartbeat\n",
            "          time         x         y         z  heartbeat  label\n",
            "4667    360.0  0.557373 -0.184052 -0.680679   0.269663      0\n",
            "9942   6390.0 -0.065735 -0.640915 -0.761108   0.146067      2\n",
            "6451  27240.0 -0.246597 -0.484222 -0.843368   0.089888      2\n",
            "8482   4170.0  0.372131 -0.870544  0.298874   0.202247      3\n",
            "1524  15210.0 -0.481674  0.414932 -0.767578   0.101124      2\n",
            "X data \n",
            " [[ 0.557373   -0.1840515  -0.6806793   0.26966292]\n",
            " [-0.0657349  -0.6409149  -0.7611084   0.14606742]\n",
            " [-0.2465973  -0.4842224  -0.8433685   0.08988764]\n",
            " [ 0.3721313  -0.8705444   0.2988739   0.20224719]\n",
            " [-0.4816742   0.4149323  -0.7675781   0.1011236 ]]\n",
            "X data with time \n",
            " [[ 3.60000000e+02  5.57373000e-01 -1.84051500e-01 -6.80679300e-01\n",
            "   2.69662921e-01]\n",
            " [ 6.39000000e+03 -6.57349000e-02 -6.40914900e-01 -7.61108400e-01\n",
            "   1.46067416e-01]\n",
            " [ 2.72400000e+04 -2.46597300e-01 -4.84222400e-01 -8.43368500e-01\n",
            "   8.98876404e-02]\n",
            " [ 4.17000000e+03  3.72131300e-01 -8.70544400e-01  2.98873900e-01\n",
            "   2.02247191e-01]\n",
            " [ 1.52100000e+04 -4.81674200e-01  4.14932300e-01 -7.67578100e-01\n",
            "   1.01123596e-01]]\n"
          ],
          "name": "stdout"
        }
      ]
    },
    {
      "cell_type": "code",
      "metadata": {
        "id": "7XUOJAuKmAg0",
        "colab_type": "code",
        "outputId": "473745be-a0fa-4be4-9221-7b48d351d589",
        "colab": {
          "base_uri": "https://localhost:8080/",
          "height": 782
        }
      },
      "source": [
        "kf = KFold(15)\n",
        "\n",
        "fold = 1\n",
        "\n",
        "sc = StandardScaler()\n",
        "tree = DecisionTreeClassifier(criterion = 'entropy')\n",
        "Accuracy_train_list = []\n",
        "Accuracy_test_list = []\n",
        "Fold = []\n",
        "for train_index, validate_index in kf.split(X,y):\n",
        "    X_train = X[train_index]\n",
        "    X_test= X[validate_index]\n",
        "    y_train = y[train_index]\n",
        "    y_test = y[validate_index]\n",
        "    tree.fit(X_train,y_train)\n",
        "    y_pred_test = tree.predict(X_test) #? y_test ipv x_test\n",
        "    y_pred_train = tree.predict(X_train)\n",
        "    Accuracy_train = accuracy_score(y_train,y_pred_train)\n",
        "    print(\"Accuracy decision tree Train\", Accuracy_train, \"%\")\n",
        "    Accuracy_test = accuracy_score(y_test,y_pred_test)\n",
        "    print(\"Accuracy decision tree Test\", Accuracy_test, \"%\") \n",
        "    print(\"Fold:\", fold)\n",
        "    Accuracy_train_list.append(Accuracy_train*100)\n",
        "    Accuracy_test_list.append(Accuracy_test*100)\n",
        "    Fold.append(fold)\n",
        "    fold += 1"
      ],
      "execution_count": 0,
      "outputs": [
        {
          "output_type": "stream",
          "text": [
            "Accuracy decision tree Train 0.9999584406948716 %\n",
            "Accuracy decision tree Test 0.7329842931937173 %\n",
            "Fold: 1\n",
            "Accuracy decision tree Train 0.9999584406948716 %\n",
            "Accuracy decision tree Test 0.7643979057591623 %\n",
            "Fold: 2\n",
            "Accuracy decision tree Train 0.9999168813897432 %\n",
            "Accuracy decision tree Test 0.743455497382199 %\n",
            "Fold: 3\n",
            "Accuracy decision tree Train 0.9999168813897432 %\n",
            "Accuracy decision tree Test 0.7463641652123327 %\n",
            "Fold: 4\n",
            "Accuracy decision tree Train 0.9999168813897432 %\n",
            "Accuracy decision tree Test 0.7382198952879581 %\n",
            "Fold: 5\n",
            "Accuracy decision tree Train 0.9999168813897432 %\n",
            "Accuracy decision tree Test 0.7725421756835369 %\n",
            "Fold: 6\n",
            "Accuracy decision tree Train 0.9999168813897432 %\n",
            "Accuracy decision tree Test 0.7527632344386271 %\n",
            "Fold: 7\n",
            "Accuracy decision tree Train 0.9999584406948716 %\n",
            "Accuracy decision tree Test 0.7277486910994765 %\n",
            "Fold: 8\n",
            "Accuracy decision tree Train 0.9999584406948716 %\n",
            "Accuracy decision tree Test 0.7422920302501455 %\n",
            "Fold: 9\n",
            "Accuracy decision tree Train 0.9999168813897432 %\n",
            "Accuracy decision tree Test 0.7463641652123327 %\n",
            "Fold: 10\n",
            "Accuracy decision tree Train 0.9999168813897432 %\n",
            "Accuracy decision tree Test 0.7649796393251891 %\n",
            "Fold: 11\n",
            "Accuracy decision tree Train 0.9999168848439512 %\n",
            "Accuracy decision tree Test 0.7561117578579744 %\n",
            "Fold: 12\n",
            "Accuracy decision tree Train 0.9999168848439512 %\n",
            "Accuracy decision tree Test 0.7532013969732246 %\n",
            "Fold: 13\n",
            "Accuracy decision tree Train 0.9999168848439512 %\n",
            "Accuracy decision tree Test 0.7473806752037253 %\n",
            "Fold: 14\n",
            "Accuracy decision tree Train 0.9999168848439512 %\n",
            "Accuracy decision tree Test 0.7590221187427241 %\n",
            "Fold: 15\n"
          ],
          "name": "stdout"
        }
      ]
    },
    {
      "cell_type": "code",
      "metadata": {
        "id": "mV69k7uVHz3c",
        "colab_type": "code",
        "outputId": "ff3aad67-6599-4635-9ddb-b169d02b4772",
        "colab": {
          "base_uri": "https://localhost:8080/",
          "height": 782
        }
      },
      "source": [
        "kf = KFold(15)\n",
        "\n",
        "fold = 1\n",
        "\n",
        "sc = StandardScaler()\n",
        "tree = DecisionTreeClassifier(criterion = 'entropy')\n",
        "Accuracy_train_list_time = []\n",
        "Accuracy_test_list_time = []\n",
        "Fold = []\n",
        "for train_index, validate_index in kf.split(X_with_time,y):\n",
        "    X_train = X_with_time[train_index]\n",
        "    X_test= X_with_time[validate_index]\n",
        "    y_train = y[train_index]\n",
        "    y_test = y[validate_index]\n",
        "    tree.fit(X_train,y_train)\n",
        "    y_pred_test = tree.predict(X_test) #? y_test ipv x_test\n",
        "    y_pred_train = tree.predict(X_train)\n",
        "    Accuracy_train = accuracy_score(y_train,y_pred_train)\n",
        "    print(\"Accuracy decision tree Train\", Accuracy_train, \"%\")\n",
        "    Accuracy_test = accuracy_score(y_test,y_pred_test)\n",
        "    print(\"Accuracy decision tree Test\", Accuracy_test, \"%\") \n",
        "    print(\"Fold:\", fold)\n",
        "    Accuracy_train_list_time.append(Accuracy_train*100)\n",
        "    Accuracy_test_list_time.append(Accuracy_test*100)\n",
        "    Fold.append(fold)\n",
        "    fold += 1"
      ],
      "execution_count": 0,
      "outputs": [
        {
          "output_type": "stream",
          "text": [
            "Accuracy decision tree Train 1.0 %\n",
            "Accuracy decision tree Test 0.8179173938336242 %\n",
            "Fold: 1\n",
            "Accuracy decision tree Train 1.0 %\n",
            "Accuracy decision tree Test 0.8504944735311227 %\n",
            "Fold: 2\n",
            "Accuracy decision tree Train 1.0 %\n",
            "Accuracy decision tree Test 0.8371146015125073 %\n",
            "Fold: 3\n",
            "Accuracy decision tree Train 1.0 %\n",
            "Accuracy decision tree Test 0.8312972658522396 %\n",
            "Fold: 4\n",
            "Accuracy decision tree Train 1.0 %\n",
            "Accuracy decision tree Test 0.8260616637579988 %\n",
            "Fold: 5\n",
            "Accuracy decision tree Train 1.0 %\n",
            "Accuracy decision tree Test 0.837696335078534 %\n",
            "Fold: 6\n",
            "Accuracy decision tree Train 1.0 %\n",
            "Accuracy decision tree Test 0.8307155322862129 %\n",
            "Fold: 7\n",
            "Accuracy decision tree Train 1.0 %\n",
            "Accuracy decision tree Test 0.8435136707388017 %\n",
            "Fold: 8\n",
            "Accuracy decision tree Train 1.0 %\n",
            "Accuracy decision tree Test 0.820826061663758 %\n",
            "Fold: 9\n",
            "Accuracy decision tree Train 1.0 %\n",
            "Accuracy decision tree Test 0.8423502036067481 %\n",
            "Fold: 10\n",
            "Accuracy decision tree Train 1.0 %\n",
            "Accuracy decision tree Test 0.8429319371727748 %\n",
            "Fold: 11\n",
            "Accuracy decision tree Train 1.0 %\n",
            "Accuracy decision tree Test 0.8341094295692666 %\n",
            "Fold: 12\n",
            "Accuracy decision tree Train 1.0 %\n",
            "Accuracy decision tree Test 0.840512223515716 %\n",
            "Fold: 13\n",
            "Accuracy decision tree Train 1.0 %\n",
            "Accuracy decision tree Test 0.8335273573923166 %\n",
            "Fold: 14\n",
            "Accuracy decision tree Train 1.0 %\n",
            "Accuracy decision tree Test 0.8463329452852154 %\n",
            "Fold: 15\n"
          ],
          "name": "stdout"
        }
      ]
    },
    {
      "cell_type": "code",
      "metadata": {
        "id": "iB-f1iurwF-v",
        "colab_type": "code",
        "outputId": "87bac007-127d-4437-cb29-d5410abb18ab",
        "colab": {
          "base_uri": "https://localhost:8080/",
          "height": 513
        }
      },
      "source": [
        "fig = plt.figure(figsize=(12,8))\n",
        "plt.plot(Fold,Accuracy_train_list,'g^',label = \"train accuracy\")\n",
        "plt.plot(Fold, Accuracy_test_list, 'bs', label = \"test accuracy\")\n",
        "plt.plot(Fold,Accuracy_train_list_time, 'c^', label = \"train accuracy with time label\")\n",
        "plt.plot(Fold, Accuracy_test_list_time, 'ms', label = \"test accuracy with time label\")\n",
        "plt.xlabel(\"Fold\")\n",
        "plt.ylabel(\"Accuracy\")\n",
        "plt.title(\"Accuracy every fold\")\n",
        "plt.grid(True)\n",
        "plt.legend(bbox_to_anchor=(1.05, 1), loc='upper left', borderaxespad=0.)\n",
        "plt.show()"
      ],
      "execution_count": 0,
      "outputs": [
        {
          "output_type": "display_data",
          "data": {
            "image/png": "[encoded data removed]",
            "text/plain": [
              "<Figure size 864x576 with 1 Axes>"
            ]
          },
          "metadata": {
            "tags": []
          }
        }
      ]
    },
    {
      "cell_type": "code",
      "metadata": {
        "id": "hGTDGP789XMt",
        "colab_type": "code",
        "colab": {}
      },
      "source": [
        ""
      ],
      "execution_count": 0,
      "outputs": []
    }
  ]
}