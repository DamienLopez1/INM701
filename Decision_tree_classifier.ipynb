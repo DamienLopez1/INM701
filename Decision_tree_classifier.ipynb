{
  "nbformat": 4,
  "nbformat_minor": 0,
  "metadata": {
    "kernelspec": {
      "display_name": "Python 3",
      "language": "python",
      "name": "python3"
    },
    "language_info": {
      "codemirror_mode": {
        "name": "ipython",
        "version": 3
      },
      "file_extension": ".py",
      "mimetype": "text/x-python",
      "name": "python",
      "nbconvert_exporter": "python",
      "pygments_lexer": "ipython3",
      "version": "3.7.3"
    },
    "colab": {
      "name": "Decision tree classifier.ipynb",
      "provenance": []
    }
  },
  "cells": [
    {
      "cell_type": "code",
      "metadata": {
        "id": "wth9cm4Z9XLm",
        "colab_type": "code",
        "outputId": "fc7dcf5d-2e1d-4369-bbe9-db32a3fdbd9b",
        "colab": {
          "base_uri": "https://localhost:8080/",
          "height": 71
        }
      },
      "source": [
        "\n",
        "import os\n",
        "import pandas as pd\n",
        "import numpy as np\n",
        "from sklearn.model_selection import train_test_split\n",
        "from sklearn.linear_model import Perceptron\n",
        "from sklearn.tree import DecisionTreeClassifier\n",
        "import matplotlib.pyplot as plt\n",
        "from sklearn.metrics import accuracy_score\n",
        "from sklearn.utils import shuffle\n",
        "from sklearn.model_selection import KFold\n",
        "from sklearn import preprocessing\n",
        "from imblearn.over_sampling import SMOTE  \n",
        "from sklearn.metrics import classification_report\n",
        "\n",
        "from sklearn.model_selection import learning_curve"
      ],
      "execution_count": 1,
      "outputs": [
        {
          "output_type": "stream",
          "text": [
            "/usr/local/lib/python3.6/dist-packages/sklearn/externals/six.py:31: DeprecationWarning: The module is deprecated in version 0.21 and will be removed in version 0.23 since we've dropped support for Python 2.7. Please rely on the official version of six (https://pypi.org/project/six/).\n",
            "  \"(https://pypi.org/project/six/).\", DeprecationWarning)\n"
          ],
          "name": "stderr"
        }
      ]
    },
    {
      "cell_type": "code",
      "metadata": {
        "id": "5kWC_-V19kGS",
        "colab_type": "code",
        "outputId": "27d4d0e9-daad-4762-d1d4-769a47e62a4a",
        "colab": {
          "base_uri": "https://localhost:8080/",
          "height": 122
        }
      },
      "source": [
        "from google.colab import drive\n",
        "drive.mount('/content/drive')"
      ],
      "execution_count": 2,
      "outputs": [
        {
          "output_type": "stream",
          "text": [
            "Go to this URL in a browser: https://accounts.google.com/o/oauth2/auth?client_id=947318989803-6bn6qk8qdgf4n4g3pfee6491hc0brc4i.apps.googleusercontent.com&redirect_uri=urn%3aietf%3awg%3aoauth%3a2.0%3aoob&response_type=code&scope=email%20https%3a%2f%2fwww.googleapis.com%2fauth%2fdocs.test%20https%3a%2f%2fwww.googleapis.com%2fauth%2fdrive%20https%3a%2f%2fwww.googleapis.com%2fauth%2fdrive.photos.readonly%20https%3a%2f%2fwww.googleapis.com%2fauth%2fpeopleapi.readonly\n",
            "\n",
            "Enter your authorization code:\n",
            "··········\n",
            "Mounted at /content/drive\n"
          ],
          "name": "stdout"
        }
      ]
    },
    {
      "cell_type": "code",
      "metadata": {
        "id": "RdPx_p4k9XL7",
        "colab_type": "code",
        "outputId": "fd839551-1ecb-4f73-fea3-95519ca4be54",
        "colab": {
          "base_uri": "https://localhost:8080/",
          "height": 493
        }
      },
      "source": [
        "\n",
        "path = \"/content/drive/My Drive/Sleep data\"\n",
        "filename_read = os.path.join(path, \"All_data_patients_correct.csv\")\n",
        "patient_all = pd.read_csv(filename_read)\n",
        "PAL = patient_all\n",
        "print(\"All patients\", PAL.head())\n",
        "PAL = shuffle(PAL)\n",
        "print(\"All patients shuffled\\n\",PAL.head())\n",
        "print(\"Patients data size\", PAL.shape)\n",
        "\n",
        "min_max_scaler = preprocessing.MinMaxScaler()\n",
        "PAL[['heartbeat']] = min_max_scaler.fit_transform(PAL[['heartbeat']].values)\n",
        "\n",
        "print(\"\\nPatients data normalized heartbeat\\n\", PAL.head())\n",
        "\n",
        "result = []\n",
        "for x in PAL.columns:\n",
        "    if x != 'label':\n",
        "        result.append(x)\n",
        "\n",
        "X = PAL[result].values\n",
        "X = np.delete(X,0,1)\n",
        "y = PAL['label'].values\n",
        "print(\"X data \\n\", X[0:5])\n",
        "\n"
      ],
      "execution_count": 19,
      "outputs": [
        {
          "output_type": "stream",
          "text": [
            "All patients     time         x         y         z  heartbeat  label\n",
            "0    0.0  0.184021  0.679169 -0.476990       87.0     -1\n",
            "1   30.0 -0.301010  0.805710  0.487167       95.0     -1\n",
            "2   60.0 -0.323517  0.923447  0.146362       84.0     -1\n",
            "3   90.0 -0.509674  0.855102 -0.049118       85.0     -1\n",
            "4  120.0 -0.387756  0.919067  0.023758       82.0     -1\n",
            "All patients shuffled\n",
            "           time         x         y         z  heartbeat  label\n",
            "14996  12150.0 -0.111252 -0.924164  0.344940       63.0      0\n",
            "21160  26940.0 -0.059967  0.357193 -0.924606       68.0      5\n",
            "24103  28350.0 -0.292816 -0.502991  0.805740       70.0      1\n",
            "9709   11910.0 -0.104370 -0.182190 -0.970490       87.0      2\n",
            "7916   12870.0 -0.200348  0.111984 -0.971909       49.0      5\n",
            "Patients data size (25781, 6)\n",
            "\n",
            "Patients data normalized heartbeat\n",
            "           time         x         y         z  heartbeat  label\n",
            "14996  12150.0 -0.111252 -0.924164  0.344940   0.247191      0\n",
            "21160  26940.0 -0.059967  0.357193 -0.924606   0.303371      5\n",
            "24103  28350.0 -0.292816 -0.502991  0.805740   0.325843      1\n",
            "9709   11910.0 -0.104370 -0.182190 -0.970490   0.516854      2\n",
            "7916   12870.0 -0.200348  0.111984 -0.971909   0.089888      5\n",
            "X data \n",
            " [[-0.1112518  -0.9241638   0.3449402   0.24719101]\n",
            " [-0.059967    0.357193   -0.9246063   0.30337079]\n",
            " [-0.2928162  -0.5029907   0.8057404   0.3258427 ]\n",
            " [-0.1043701  -0.1821899  -0.9704895   0.51685393]\n",
            " [-0.2003479   0.1119843  -0.9719086   0.08988764]]\n"
          ],
          "name": "stdout"
        }
      ]
    },
    {
      "cell_type": "code",
      "metadata": {
        "id": "7XUOJAuKmAg0",
        "colab_type": "code",
        "outputId": "3f8fbdb8-da5e-4212-b4ef-2e64197c6c43",
        "colab": {
          "base_uri": "https://localhost:8080/",
          "height": 51
        }
      },
      "source": [
        "X_train, X_test, y_train, y_test = train_test_split(    \n",
        "    X, y, test_size=0.2, random_state=42) \n",
        "\n",
        "smt = SMOTE()\n",
        "X_train, y_train = smt.fit_sample(X_train, y_train)\n",
        "tree = DecisionTreeClassifier(criterion = 'entropy').fit(X_train,y_train)\n",
        "\n",
        "y_pred_test = tree.predict(X_test) #? y_test ipv x_test\n",
        "y_pred_train = tree.predict(X_train)\n",
        "Accuracy_train = accuracy_score(y_train,y_pred_train)\n",
        "print(\"Accuracy decision tree Train\", Accuracy_train, \"%\")\n",
        "Accuracy_test = accuracy_score(y_test,y_pred_test)\n",
        "print(\"Accuracy decision tree Test\", Accuracy_test, \"%\") \n",
        "\n"
      ],
      "execution_count": 21,
      "outputs": [
        {
          "output_type": "stream",
          "text": [
            "Accuracy decision tree Train 0.9999712358516345 %\n",
            "Accuracy decision tree Test 0.725615668024045 %\n"
          ],
          "name": "stdout"
        }
      ]
    },
    {
      "cell_type": "code",
      "metadata": {
        "id": "hGTDGP789XMt",
        "colab_type": "code",
        "colab": {}
      },
      "source": [
        ""
      ],
      "execution_count": 0,
      "outputs": []
    }
  ]
}